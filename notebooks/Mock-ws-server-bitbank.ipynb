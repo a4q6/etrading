{
 "cells": [
  {
   "cell_type": "code",
   "execution_count": 1,
   "id": "ebe9f71a-ec67-4957-a54a-6c795a07c6bb",
   "metadata": {},
   "outputs": [
    {
     "data": {
      "text/plain": [
       "'wss://stream.bitbank.cc'"
      ]
     },
     "execution_count": 1,
     "metadata": {},
     "output_type": "execute_result"
    }
   ],
   "source": [
    "\"wss://stream.bitbank.cc\""
   ]
  },
  {
   "cell_type": "code",
   "execution_count": 2,
   "id": "c3348221",
   "metadata": {},
   "outputs": [],
   "source": [
    "msg_execution = [\n",
    "    \"message\",\n",
    "    {\n",
    "        \"room_name\": \"transactions_btc_jpy\",\n",
    "        \"message\": {\n",
    "            \"pid\": 0,\n",
    "            \"data\": {\n",
    "                \"transactions\": [\n",
    "                    {\n",
    "                        \"side\": \"string\",\n",
    "                        \"executed_at\": 0,\n",
    "                        \"amount\": \"string\",\n",
    "                        \"price\": \"string\",\n",
    "                        \"transaction_id\": 0\n",
    "                    }\n",
    "                ]\n",
    "            }\n",
    "        }\n",
    "    }\n",
    "]\n",
    "\n",
    "msg_whole_book = [\n",
    "    \"message\",\n",
    "    {\n",
    "        \"room_name\": \"depth_whole_xrp_jpy\",\n",
    "        \"message\": {\n",
    "            \"data\": {\n",
    "                \"bids\": [\n",
    "                    [\n",
    "                        \"27.537\",\n",
    "                        \"6211.6210\"\n",
    "                    ],\n",
    "                    [\n",
    "                        \"27.523\",\n",
    "                        \"875.3413\"\n",
    "                    ],\n",
    "                ],\n",
    "                \"asks\": [\n",
    "                    [\n",
    "                        \"27.538\",\n",
    "                        \"7233.6837\"\n",
    "                    ],\n",
    "                    [\n",
    "                        \"27.540\",\n",
    "                        \"19.4551\"\n",
    "                    ],\n",
    "                ],\n",
    "                \"asks_over\": \"0.123\",\n",
    "                \"bids_under\": \"0.123\",\n",
    "                \"asks_under\": \"0\",\n",
    "                \"bids_over\": \"0\",\n",
    "                \"ask_market\": \"0\",\n",
    "                \"bid_market\": \"0\",\n",
    "                \"timestamp\": 1568344476514,\n",
    "                \"sequenceId\": \"1234567890\"\n",
    "            }\n",
    "        }\n",
    "    }\n",
    "]\n",
    "\n",
    "msg_diff_book = [\n",
    "    \"message\",\n",
    "    {\n",
    "        \"room_name\": \"depth_diff_xrp_jpy\",\n",
    "        \"message\": {\n",
    "            \"data\": {\n",
    "                \"b\": [\n",
    "                    [\n",
    "                        \"26.872\",\n",
    "                        \"43.3989\"\n",
    "                    ],\n",
    "                    [\n",
    "                        \"26.871\",\n",
    "                        \"100.0000\"\n",
    "                    ],\n",
    "                ],\n",
    "                \"a\": [\n",
    "                    [\n",
    "                        \"27.839\",\n",
    "                        \"1634.3980\"\n",
    "                    ],\n",
    "                    [\n",
    "                        \"28.450\",\n",
    "                        \"0\"\n",
    "                    ]\n",
    "                ],\n",
    "                \"ao\": \"1\",\n",
    "                \"bu\": \"1\",\n",
    "                \"am\": \"1\",\n",
    "                \"bm\": \"1\",\n",
    "                \"t\": 1568344204624,\n",
    "                \"s\": \"1234567890\"\n",
    "            }\n",
    "        }\n",
    "    }\n",
    "]\n",
    "\n",
    "msg_circuit_break = [\n",
    "    \"message\",\n",
    "    {\n",
    "        \"room_name\": \"circuit_break_info_btc_jpy\",\n",
    "        \"message\": {\n",
    "            \"data\": {\n",
    "              \"mode\": \"string\",\n",
    "              \"estimated_itayose_price\": \"string\",\n",
    "              \"estimated_itayose_amount\": \"string\",\n",
    "              \"itayose_upper_price\": \"string\",\n",
    "              \"itayose_lower_price\": \"string\",\n",
    "              \"upper_trigger_price\": \"string\",\n",
    "              \"lower_trigger_price\": \"string\",\n",
    "              \"fee_type\": \"string\",\n",
    "              \"reopen_timestamp\": 0,\n",
    "              \"timestamp\": 0\n",
    "            }\n",
    "        }\n",
    "    }\n",
    "]"
   ]
  },
  {
   "cell_type": "code",
   "execution_count": 4,
   "id": "bdca68cd",
   "metadata": {},
   "outputs": [],
   "source": [
    "import asyncio\n",
    "import websockets\n",
    "import datetime\n",
    "\n",
    "# メッセージを送る間隔（秒）\n",
    "N = 3\n",
    "msg_choice = [msg_execution, msg_circuit_break]\n",
    "\n",
    "async def send_periodic_message(websocket):\n",
    "    while True:\n",
    "        message = msg_choice[np.random.choice(len(msg_choice))]\n",
    "        message = json.dumps(message)\n",
    "        await websocket.send(message)\n",
    "        await asyncio.sleep(N)\n",
    "\n",
    "async def handler(websocket, path):\n",
    "    print(f\"Client connected from {websocket.remote_address}\")\n",
    "    try:\n",
    "        await send_periodic_message(websocket)\n",
    "    except websockets.ConnectionClosed:\n",
    "        print(\"Client disconnected\")\n",
    "\n",
    "async def main():\n",
    "    async with websockets.serve(handler, \"localhost\", 8765):\n",
    "        print(\"WebSocket server started on ws://localhost:8765\")\n",
    "        await asyncio.Future()  # 永遠に待機"
   ]
  },
  {
   "cell_type": "code",
   "execution_count": 5,
   "id": "91cf4f1c",
   "metadata": {},
   "outputs": [
    {
     "name": "stdout",
     "output_type": "stream",
     "text": [
      "WebSocket server started on ws://localhost:8765\n",
      "Client connected from ('::1', 52579, 0, 0)\n"
     ]
    },
    {
     "ename": "KeyboardInterrupt",
     "evalue": "",
     "output_type": "error",
     "traceback": [
      "\u001b[0;31m---------------------------------------------------------------------------\u001b[0m",
      "\u001b[0;31mKeyboardInterrupt\u001b[0m                         Traceback (most recent call last)",
      "Input \u001b[0;32mIn [5]\u001b[0m, in \u001b[0;36m<cell line: 6>\u001b[0;34m()\u001b[0m\n\u001b[1;32m      4\u001b[0m nest_asyncio\u001b[38;5;241m.\u001b[39mapply()\n\u001b[1;32m      5\u001b[0m loop \u001b[38;5;241m=\u001b[39m asyncio\u001b[38;5;241m.\u001b[39mget_event_loop()\n\u001b[0;32m----> 6\u001b[0m \u001b[43mloop\u001b[49m\u001b[38;5;241;43m.\u001b[39;49m\u001b[43mrun_until_complete\u001b[49m\u001b[43m(\u001b[49m\u001b[43mmain\u001b[49m\u001b[43m(\u001b[49m\u001b[43m)\u001b[49m\u001b[43m)\u001b[49m\n",
      "File \u001b[0;32m~/miniforge3/envs/myenv/lib/python3.8/site-packages/nest_asyncio.py:83\u001b[0m, in \u001b[0;36m_patch_loop.<locals>.run_until_complete\u001b[0;34m(self, future)\u001b[0m\n\u001b[1;32m     81\u001b[0m     f\u001b[38;5;241m.\u001b[39m_log_destroy_pending \u001b[38;5;241m=\u001b[39m \u001b[38;5;28;01mFalse\u001b[39;00m\n\u001b[1;32m     82\u001b[0m \u001b[38;5;28;01mwhile\u001b[39;00m \u001b[38;5;129;01mnot\u001b[39;00m f\u001b[38;5;241m.\u001b[39mdone():\n\u001b[0;32m---> 83\u001b[0m     \u001b[38;5;28;43mself\u001b[39;49m\u001b[38;5;241;43m.\u001b[39;49m\u001b[43m_run_once\u001b[49m\u001b[43m(\u001b[49m\u001b[43m)\u001b[49m\n\u001b[1;32m     84\u001b[0m     \u001b[38;5;28;01mif\u001b[39;00m \u001b[38;5;28mself\u001b[39m\u001b[38;5;241m.\u001b[39m_stopping:\n\u001b[1;32m     85\u001b[0m         \u001b[38;5;28;01mbreak\u001b[39;00m\n",
      "File \u001b[0;32m~/miniforge3/envs/myenv/lib/python3.8/site-packages/nest_asyncio.py:106\u001b[0m, in \u001b[0;36m_patch_loop.<locals>._run_once\u001b[0;34m(self)\u001b[0m\n\u001b[1;32m     99\u001b[0m     heappop(scheduled)\n\u001b[1;32m    101\u001b[0m timeout \u001b[38;5;241m=\u001b[39m (\n\u001b[1;32m    102\u001b[0m     \u001b[38;5;241m0\u001b[39m \u001b[38;5;28;01mif\u001b[39;00m ready \u001b[38;5;129;01mor\u001b[39;00m \u001b[38;5;28mself\u001b[39m\u001b[38;5;241m.\u001b[39m_stopping\n\u001b[1;32m    103\u001b[0m     \u001b[38;5;28;01melse\u001b[39;00m \u001b[38;5;28mmin\u001b[39m(\u001b[38;5;28mmax\u001b[39m(\n\u001b[1;32m    104\u001b[0m         scheduled[\u001b[38;5;241m0\u001b[39m]\u001b[38;5;241m.\u001b[39m_when \u001b[38;5;241m-\u001b[39m \u001b[38;5;28mself\u001b[39m\u001b[38;5;241m.\u001b[39mtime(), \u001b[38;5;241m0\u001b[39m), \u001b[38;5;241m86400\u001b[39m) \u001b[38;5;28;01mif\u001b[39;00m scheduled\n\u001b[1;32m    105\u001b[0m     \u001b[38;5;28;01melse\u001b[39;00m \u001b[38;5;28;01mNone\u001b[39;00m)\n\u001b[0;32m--> 106\u001b[0m event_list \u001b[38;5;241m=\u001b[39m \u001b[38;5;28;43mself\u001b[39;49m\u001b[38;5;241;43m.\u001b[39;49m\u001b[43m_selector\u001b[49m\u001b[38;5;241;43m.\u001b[39;49m\u001b[43mselect\u001b[49m\u001b[43m(\u001b[49m\u001b[43mtimeout\u001b[49m\u001b[43m)\u001b[49m\n\u001b[1;32m    107\u001b[0m \u001b[38;5;28mself\u001b[39m\u001b[38;5;241m.\u001b[39m_process_events(event_list)\n\u001b[1;32m    109\u001b[0m end_time \u001b[38;5;241m=\u001b[39m \u001b[38;5;28mself\u001b[39m\u001b[38;5;241m.\u001b[39mtime() \u001b[38;5;241m+\u001b[39m \u001b[38;5;28mself\u001b[39m\u001b[38;5;241m.\u001b[39m_clock_resolution\n",
      "File \u001b[0;32m~/miniforge3/envs/myenv/lib/python3.8/selectors.py:558\u001b[0m, in \u001b[0;36mKqueueSelector.select\u001b[0;34m(self, timeout)\u001b[0m\n\u001b[1;32m    556\u001b[0m ready \u001b[38;5;241m=\u001b[39m []\n\u001b[1;32m    557\u001b[0m \u001b[38;5;28;01mtry\u001b[39;00m:\n\u001b[0;32m--> 558\u001b[0m     kev_list \u001b[38;5;241m=\u001b[39m \u001b[38;5;28;43mself\u001b[39;49m\u001b[38;5;241;43m.\u001b[39;49m\u001b[43m_selector\u001b[49m\u001b[38;5;241;43m.\u001b[39;49m\u001b[43mcontrol\u001b[49m\u001b[43m(\u001b[49m\u001b[38;5;28;43;01mNone\u001b[39;49;00m\u001b[43m,\u001b[49m\u001b[43m \u001b[49m\u001b[43mmax_ev\u001b[49m\u001b[43m,\u001b[49m\u001b[43m \u001b[49m\u001b[43mtimeout\u001b[49m\u001b[43m)\u001b[49m\n\u001b[1;32m    559\u001b[0m \u001b[38;5;28;01mexcept\u001b[39;00m \u001b[38;5;167;01mInterruptedError\u001b[39;00m:\n\u001b[1;32m    560\u001b[0m     \u001b[38;5;28;01mreturn\u001b[39;00m ready\n",
      "\u001b[0;31mKeyboardInterrupt\u001b[0m: "
     ]
    }
   ],
   "source": [
    "import nest_asyncio\n",
    "import asyncio\n",
    "\n",
    "nest_asyncio.apply()\n",
    "loop = asyncio.get_event_loop()\n",
    "loop.run_until_complete(main())"
   ]
  },
  {
   "cell_type": "code",
   "execution_count": null,
   "id": "e15c380e",
   "metadata": {},
   "outputs": [],
   "source": []
  },
  {
   "cell_type": "code",
   "execution_count": null,
   "id": "f300dd38",
   "metadata": {},
   "outputs": [],
   "source": []
  },
  {
   "cell_type": "code",
   "execution_count": 6,
   "id": "602be386",
   "metadata": {},
   "outputs": [],
   "source": [
    "from concurrent.futures import ThreadPoolExecutor"
   ]
  },
  {
   "cell_type": "code",
   "execution_count": 8,
   "id": "3fad6b86",
   "metadata": {},
   "outputs": [],
   "source": [
    "t = ThreadPoolExecutor(max_workers=1)"
   ]
  },
  {
   "cell_type": "code",
   "execution_count": 12,
   "id": "f24c5ec1",
   "metadata": {},
   "outputs": [
    {
     "name": "stdout",
     "output_type": "stream",
     "text": [
      "Client disconnected\n"
     ]
    }
   ],
   "source": [
    "t.shutdown()"
   ]
  },
  {
   "cell_type": "code",
   "execution_count": null,
   "id": "9eee5e0c",
   "metadata": {},
   "outputs": [],
   "source": []
  }
 ],
 "metadata": {
  "kernelspec": {
   "display_name": "Python 3 (ipykernel)",
   "language": "python",
   "name": "python3"
  },
  "language_info": {
   "codemirror_mode": {
    "name": "ipython",
    "version": 3
   },
   "file_extension": ".py",
   "mimetype": "text/x-python",
   "name": "python",
   "nbconvert_exporter": "python",
   "pygments_lexer": "ipython3",
   "version": "3.8.6"
  }
 },
 "nbformat": 4,
 "nbformat_minor": 5
}
