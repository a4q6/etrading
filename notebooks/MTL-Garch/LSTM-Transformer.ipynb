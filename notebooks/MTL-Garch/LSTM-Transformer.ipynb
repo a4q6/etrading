{
 "cells": [
  {
   "cell_type": "code",
   "execution_count": 257,
   "id": "08fd1c72",
   "metadata": {},
   "outputs": [],
   "source": [
    "from etr.auto_import import *"
   ]
  },
  {
   "cell_type": "markdown",
   "id": "25d5f28f",
   "metadata": {},
   "source": [
    "## Data\n",
    "---"
   ]
  },
  {
   "cell_type": "code",
   "execution_count": 307,
   "id": "149dcacb",
   "metadata": {},
   "outputs": [],
   "source": [
    "# replace yfinance data as crypt\n",
    "data = pd.concat(\n",
    "    [pd.read_parquet(file) for file in Path(\"../../data/gmo/BTC_JPY/\").glob(\"*2020*\")]\n",
    "    + [pd.read_parquet(file) for file in Path(\"../../data/gmo/ETH_JPY/\").glob(\"*2020*\")]\n",
    "#     + [pd.read_parquet(file) for file in Path(\"../../data/gmo/LTC_JPY/\").glob(\"*2020*\")]\n",
    ")"
   ]
  },
  {
   "cell_type": "markdown",
   "id": "16775cd7",
   "metadata": {},
   "source": [
    "### preprocess"
   ]
  },
  {
   "cell_type": "code",
   "execution_count": 311,
   "id": "5ac45857",
   "metadata": {},
   "outputs": [
    {
     "name": "stdout",
     "output_type": "stream",
     "text": [
      "CPU times: user 18.5 s, sys: 10.6 s, total: 29.1 s\n",
      "Wall time: 49.7 s\n"
     ]
    }
   ],
   "source": [
    "%%time\n",
    "freq = \"10min\"\n",
    "ohlc = data.set_index(\"timestamp\").groupby(\"symbol\").resample(freq, label=\"right\").price.ohlc()\n",
    "v = data.set_index(\"timestamp\").groupby([\"symbol\", \"side\"]).resample(freq, label=\"right\")[\"size\"].sum()\n",
    "\n",
    "# Form OHLCV\n",
    "ohlcv = ohlc.join(v.unstack(level=1))\n",
    "ohlcv[\"volume\"] = ohlcv.BUY + ohlcv.SELL\n",
    "ohlcv[\"v_imbalance\"] = ohlcv.BUY.fillna(0) - ohlcv.SELL.fillna(0)"
   ]
  },
  {
   "cell_type": "code",
   "execution_count": 346,
   "id": "8d3a3897",
   "metadata": {},
   "outputs": [],
   "source": [
    "# as timeseries\n",
    "close = ohlcv.close.unstack(level=0).ffill()\n",
    "cc = np.log(close.pct_change().add(1)).rename(lambda x: f\"CC_{x[0]}\", axis=1)\n",
    "hl = np.log(ohlcv.high.unstack(level=0).div(ohlcv.low.unstack(level=0))).fillna(0).rename(lambda x: f\"HL_{x[0]}\", axis=1)\n",
    "v_imb = ohlcv.v_imbalance.unstack(level=0).fillna(0).rename(lambda x: f\"VI_{x[0]}\", axis=1)\n",
    "v_tot = ohlcv.volume.unstack(level=0).fillna(0).rename(lambda x: f\"VT_{x[0]}\", axis=1)\n",
    "\n",
    "horizon = 6\n",
    "label = np.log(close.shift(-horizon) / close)\n",
    "label = label.sub(label.mean()).div(label.std()).clip(-4, +4)\n",
    "features = pd.concat([cc, hl, v_imb, v_tot], axis=1)\n",
    "features_norm = features.sub(features.rolling(\"7D\").mean()).div(features.rolling(\"7D\").std()).clip(-4, +4)\n",
    "features_norm[\"W\"] = features_norm.index.weekday\n",
    "features_norm[\"H\"] = features_norm.index.hour\n",
    "dataset = label.join(features_norm).dropna()"
   ]
  },
  {
   "cell_type": "code",
   "execution_count": 347,
   "id": "3e46a5f8",
   "metadata": {},
   "outputs": [],
   "source": [
    "X, y = dataset.iloc[:, label.shape[1]:], dataset.ETH_JPY"
   ]
  },
  {
   "cell_type": "code",
   "execution_count": 348,
   "id": "c94fac63",
   "metadata": {},
   "outputs": [
    {
     "data": {
      "text/html": [
       "<div>\n",
       "<style scoped>\n",
       "    .dataframe tbody tr th:only-of-type {\n",
       "        vertical-align: middle;\n",
       "    }\n",
       "\n",
       "    .dataframe tbody tr th {\n",
       "        vertical-align: top;\n",
       "    }\n",
       "\n",
       "    .dataframe thead th {\n",
       "        text-align: right;\n",
       "    }\n",
       "</style>\n",
       "<table border=\"1\" class=\"dataframe\">\n",
       "  <thead>\n",
       "    <tr style=\"text-align: right;\">\n",
       "      <th>symbol</th>\n",
       "      <th>CC_B</th>\n",
       "      <th>CC_E</th>\n",
       "      <th>HL_B</th>\n",
       "      <th>HL_E</th>\n",
       "      <th>VI_B</th>\n",
       "      <th>VI_E</th>\n",
       "      <th>VT_B</th>\n",
       "      <th>VT_E</th>\n",
       "      <th>W</th>\n",
       "      <th>H</th>\n",
       "    </tr>\n",
       "    <tr>\n",
       "      <th>timestamp</th>\n",
       "      <th></th>\n",
       "      <th></th>\n",
       "      <th></th>\n",
       "      <th></th>\n",
       "      <th></th>\n",
       "      <th></th>\n",
       "      <th></th>\n",
       "      <th></th>\n",
       "      <th></th>\n",
       "      <th></th>\n",
       "    </tr>\n",
       "  </thead>\n",
       "  <tbody>\n",
       "    <tr>\n",
       "      <th>2019-12-31 22:10:00</th>\n",
       "      <td>0.960466</td>\n",
       "      <td>-0.707107</td>\n",
       "      <td>0.276149</td>\n",
       "      <td>1.211169</td>\n",
       "      <td>0.810523</td>\n",
       "      <td>-2.266048</td>\n",
       "      <td>0.542720</td>\n",
       "      <td>2.053838</td>\n",
       "      <td>1</td>\n",
       "      <td>22</td>\n",
       "    </tr>\n",
       "    <tr>\n",
       "      <th>2019-12-31 22:20:00</th>\n",
       "      <td>-1.102851</td>\n",
       "      <td>0.577350</td>\n",
       "      <td>-0.818994</td>\n",
       "      <td>-0.535150</td>\n",
       "      <td>-1.577404</td>\n",
       "      <td>0.337222</td>\n",
       "      <td>-0.065053</td>\n",
       "      <td>-0.492669</td>\n",
       "      <td>1</td>\n",
       "      <td>22</td>\n",
       "    </tr>\n",
       "    <tr>\n",
       "      <th>2019-12-31 22:30:00</th>\n",
       "      <td>1.525830</td>\n",
       "      <td>0.500000</td>\n",
       "      <td>0.772385</td>\n",
       "      <td>-0.499531</td>\n",
       "      <td>-0.345608</td>\n",
       "      <td>0.318160</td>\n",
       "      <td>0.496215</td>\n",
       "      <td>-0.461112</td>\n",
       "      <td>1</td>\n",
       "      <td>22</td>\n",
       "    </tr>\n",
       "  </tbody>\n",
       "</table>\n",
       "</div>"
      ],
      "text/plain": [
       "symbol                   CC_B      CC_E      HL_B      HL_E      VI_B  \\\n",
       "timestamp                                                               \n",
       "2019-12-31 22:10:00  0.960466 -0.707107  0.276149  1.211169  0.810523   \n",
       "2019-12-31 22:20:00 -1.102851  0.577350 -0.818994 -0.535150 -1.577404   \n",
       "2019-12-31 22:30:00  1.525830  0.500000  0.772385 -0.499531 -0.345608   \n",
       "\n",
       "symbol                   VI_E      VT_B      VT_E  W   H  \n",
       "timestamp                                                 \n",
       "2019-12-31 22:10:00 -2.266048  0.542720  2.053838  1  22  \n",
       "2019-12-31 22:20:00  0.337222 -0.065053 -0.492669  1  22  \n",
       "2019-12-31 22:30:00  0.318160  0.496215 -0.461112  1  22  "
      ]
     },
     "execution_count": 348,
     "metadata": {},
     "output_type": "execute_result"
    }
   ],
   "source": [
    "X.head(3)"
   ]
  },
  {
   "cell_type": "code",
   "execution_count": 349,
   "id": "13e6dd26",
   "metadata": {},
   "outputs": [
    {
     "data": {
      "text/plain": [
       "timestamp\n",
       "2019-12-31 22:10:00    0.541024\n",
       "2019-12-31 22:20:00    0.541024\n",
       "2019-12-31 22:30:00    0.331412\n",
       "Name: ETH_JPY, dtype: float64"
      ]
     },
     "execution_count": 349,
     "metadata": {},
     "output_type": "execute_result"
    }
   ],
   "source": [
    "y.head(3)"
   ]
  },
  {
   "cell_type": "markdown",
   "id": "194583d9",
   "metadata": {},
   "source": [
    "## Train\n",
    "---"
   ]
  },
  {
   "cell_type": "code",
   "execution_count": 351,
   "id": "612f61ee",
   "metadata": {},
   "outputs": [],
   "source": [
    "from etr.research.mt_garch.lstm_transformer import *"
   ]
  },
  {
   "cell_type": "code",
   "execution_count": 360,
   "id": "163d544d",
   "metadata": {},
   "outputs": [],
   "source": [
    "model = LSTMTransformerWrapper(\n",
    "    total_input_dim=X.shape[1],\n",
    "    cat_index={-2: 7, -1: 24}, \n",
    "    seq_len=60, \n",
    "    activation=nn.Identity(), \n",
    "    criterion=nn.MSELoss(),\n",
    "    lr=0.001,\n",
    ")"
   ]
  },
  {
   "cell_type": "code",
   "execution_count": 361,
   "id": "0e73662a",
   "metadata": {
    "scrolled": true
   },
   "outputs": [
    {
     "name": "stdout",
     "output_type": "stream",
     "text": [
      "Epoch [1/100] Train Loss: 0.5746 | Val Loss: 0.3609\n",
      "Epoch [2/100] Train Loss: 0.5603 | Val Loss: 0.3592\n",
      "Epoch [3/100] Train Loss: 0.5568 | Val Loss: 0.3590\n",
      "Epoch [4/100] Train Loss: 0.5530 | Val Loss: 0.3613\n",
      "Epoch [5/100] Train Loss: 0.5504 | Val Loss: 0.3632\n",
      "Epoch [6/100] Train Loss: 0.5491 | Val Loss: 0.3689\n",
      "Epoch [7/100] Train Loss: 0.5425 | Val Loss: 0.3697\n",
      "Epoch [8/100] Train Loss: 0.5377 | Val Loss: 0.3797\n",
      "Epoch [9/100] Train Loss: 0.5320 | Val Loss: 0.3704\n",
      "Epoch [10/100] Train Loss: 0.5244 | Val Loss: 0.3709\n",
      "Epoch [11/100] Train Loss: 0.5202 | Val Loss: 0.3721\n",
      "Epoch [12/100] Train Loss: 0.5131 | Val Loss: 0.3767\n",
      "Epoch [13/100] Train Loss: 0.5052 | Val Loss: 0.3964\n",
      "Early stopping triggered.\n"
     ]
    }
   ],
   "source": [
    "TRAIN_ET = \"2020-01-30 00:00\"\n",
    "model.fit_dataframe(\n",
    "    X_df = X.loc[:TRAIN_ET],\n",
    "    y_df = y.loc[:TRAIN_ET],\n",
    "    val_split=0.2\n",
    ")"
   ]
  },
  {
   "cell_type": "code",
   "execution_count": 362,
   "id": "c146f026",
   "metadata": {},
   "outputs": [],
   "source": [
    "pred = model.predict_dataframe(X.loc[:TRAIN_ET])"
   ]
  },
  {
   "cell_type": "code",
   "execution_count": null,
   "id": "fda83733",
   "metadata": {},
   "outputs": [],
   "source": [
    "\n"
   ]
  }
 ],
 "metadata": {
  "kernelspec": {
   "display_name": "Python 3 (ipykernel)",
   "language": "python",
   "name": "python3"
  },
  "language_info": {
   "codemirror_mode": {
    "name": "ipython",
    "version": 3
   },
   "file_extension": ".py",
   "mimetype": "text/x-python",
   "name": "python",
   "nbconvert_exporter": "python",
   "pygments_lexer": "ipython3",
   "version": "3.8.6"
  }
 },
 "nbformat": 4,
 "nbformat_minor": 5
}
