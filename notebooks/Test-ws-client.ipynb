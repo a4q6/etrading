{
 "cells": [
  {
   "cell_type": "code",
   "execution_count": 20,
   "id": "df9799ab",
   "metadata": {},
   "outputs": [],
   "source": [
    "import asyncio\n",
    "import websockets\n",
    "\n",
    "uri = \"ws://localhost:8765\"\n",
    "uri = \"wss://stream.bitbank.cc/socket.io/?EIO=3&transport=websocket\"\n",
    "channels = [\n",
    "    \"ticker_btc_jpy\",\n",
    "    \"transactions_btc_jpy\",\n",
    "#     \"depth_diff_btc_jpy\",\n",
    "#     \"depth_whole_btc_jpy\",\n",
    "]\n",
    "\n",
    "async def listen():\n",
    "    async with websockets.connect(uri) as ws:\n",
    "        for channel in channels:\n",
    "            subscribe_msg = f'42[\"join-room\",\"{channel}\"]'\n",
    "            await ws.send(subscribe_msg)\n",
    "            print(f\"Send request for '{channel}'\")\n",
    "\n",
    "        while True:\n",
    "            message = await ws.recv()\n",
    "            print(f\"{message}\")"
   ]
  },
  {
   "cell_type": "code",
   "execution_count": 21,
   "id": "df5a1063",
   "metadata": {
    "scrolled": true
   },
   "outputs": [
    {
     "name": "stdout",
     "output_type": "stream",
     "text": [
      "Send request for 'ticker_btc_jpy'\n",
      "Send request for 'transactions_btc_jpy'\n",
      "0{\"sid\":\"rGnZT8H5vtP61XkoMFe4\",\"upgrades\":[],\"pingInterval\":25000,\"pingTimeout\":20000,\"maxPayload\":1000000}\n",
      "40\n",
      "42[\"message\",{\"room_name\":\"ticker_btc_jpy\",\"message\":{\"data\":{\"sell\":\"12089549\",\"buy\":\"12089548\",\"open\":\"12135284\",\"high\":\"12200000\",\"low\":\"11935367\",\"last\":\"12089549\",\"vol\":\"132.7171\",\"timestamp\":1744958607068}}}]\n",
      "42[\"message\",{\"room_name\":\"ticker_btc_jpy\",\"message\":{\"data\":{\"sell\":\"12089549\",\"buy\":\"12089548\",\"open\":\"12135284\",\"high\":\"12200000\",\"low\":\"11935367\",\"last\":\"12089549\",\"vol\":\"132.7171\",\"timestamp\":1744958607969}}}]\n",
      "42[\"message\",{\"room_name\":\"ticker_btc_jpy\",\"message\":{\"data\":{\"sell\":\"12089549\",\"buy\":\"12089548\",\"open\":\"12135284\",\"high\":\"12200000\",\"low\":\"11935367\",\"last\":\"12089549\",\"vol\":\"132.7171\",\"timestamp\":1744958609047}}}]\n",
      "42[\"message\",{\"room_name\":\"ticker_btc_jpy\",\"message\":{\"data\":{\"sell\":\"12089549\",\"buy\":\"12089548\",\"open\":\"12135284\",\"high\":\"12200000\",\"low\":\"11935367\",\"last\":\"12089549\",\"vol\":\"132.7171\",\"timestamp\":1744958610172}}}]\n",
      "42[\"message\",{\"room_name\":\"ticker_btc_jpy\",\"message\":{\"data\":{\"sell\":\"12089549\",\"buy\":\"12089548\",\"open\":\"12135284\",\"high\":\"12200000\",\"low\":\"11935367\",\"last\":\"12089549\",\"vol\":\"132.7171\",\"timestamp\":1744958611035}}}]\n",
      "42[\"message\",{\"room_name\":\"ticker_btc_jpy\",\"message\":{\"data\":{\"sell\":\"12089549\",\"buy\":\"12089548\",\"open\":\"12135284\",\"high\":\"12200000\",\"low\":\"11935367\",\"last\":\"12089549\",\"vol\":\"132.7185\",\"timestamp\":1744958611958}}}]\n",
      "42[\"message\",{\"room_name\":\"ticker_btc_jpy\",\"message\":{\"data\":{\"sell\":\"12089549\",\"buy\":\"12089548\",\"open\":\"12135284\",\"high\":\"12200000\",\"low\":\"11935367\",\"last\":\"12089549\",\"vol\":\"132.7185\",\"timestamp\":1744958613086}}}]\n",
      "42[\"message\",{\"room_name\":\"ticker_btc_jpy\",\"message\":{\"data\":{\"sell\":\"12089549\",\"buy\":\"12089548\",\"open\":\"12135284\",\"high\":\"12200000\",\"low\":\"11935367\",\"last\":\"12089549\",\"vol\":\"132.7185\",\"timestamp\":1744958614060}}}]\n",
      "42[\"message\",{\"room_name\":\"ticker_btc_jpy\",\"message\":{\"data\":{\"sell\":\"12089549\",\"buy\":\"12089548\",\"open\":\"12135284\",\"high\":\"12200000\",\"low\":\"11935367\",\"last\":\"12089549\",\"vol\":\"132.7185\",\"timestamp\":1744958615087}}}]\n",
      "42[\"message\",{\"room_name\":\"ticker_btc_jpy\",\"message\":{\"data\":{\"sell\":\"12089549\",\"buy\":\"12089548\",\"open\":\"12135284\",\"high\":\"12200000\",\"low\":\"11935367\",\"last\":\"12089549\",\"vol\":\"132.7185\",\"timestamp\":1744958616092}}}]\n",
      "42[\"message\",{\"room_name\":\"ticker_btc_jpy\",\"message\":{\"data\":{\"sell\":\"12089549\",\"buy\":\"12089548\",\"open\":\"12135284\",\"high\":\"12200000\",\"low\":\"11935367\",\"last\":\"12089549\",\"vol\":\"132.7185\",\"timestamp\":1744958617059}}}]\n",
      "42[\"message\",{\"room_name\":\"ticker_btc_jpy\",\"message\":{\"data\":{\"sell\":\"12089549\",\"buy\":\"12089548\",\"open\":\"12135284\",\"high\":\"12200000\",\"low\":\"11935367\",\"last\":\"12089549\",\"vol\":\"132.7185\",\"timestamp\":1744958618102}}}]\n",
      "42[\"message\",{\"room_name\":\"ticker_btc_jpy\",\"message\":{\"data\":{\"sell\":\"12089549\",\"buy\":\"12089548\",\"open\":\"12135284\",\"high\":\"12200000\",\"low\":\"11935367\",\"last\":\"12089549\",\"vol\":\"132.7185\",\"timestamp\":1744958619067}}}]\n",
      "42[\"message\",{\"room_name\":\"ticker_btc_jpy\",\"message\":{\"data\":{\"sell\":\"12089549\",\"buy\":\"12089548\",\"open\":\"12135284\",\"high\":\"12200000\",\"low\":\"11935367\",\"last\":\"12089549\",\"vol\":\"132.7185\",\"timestamp\":1744958619989}}}]\n",
      "42[\"message\",{\"room_name\":\"ticker_btc_jpy\",\"message\":{\"data\":{\"sell\":\"12089549\",\"buy\":\"12089548\",\"open\":\"12135284\",\"high\":\"12200000\",\"low\":\"11935367\",\"last\":\"12089549\",\"vol\":\"132.7185\",\"timestamp\":1744958621106}}}]\n",
      "42[\"message\",{\"room_name\":\"ticker_btc_jpy\",\"message\":{\"data\":{\"sell\":\"12089549\",\"buy\":\"12089548\",\"open\":\"12135284\",\"high\":\"12200000\",\"low\":\"11935367\",\"last\":\"12089549\",\"vol\":\"132.7185\",\"timestamp\":1744958622089}}}]\n",
      "42[\"message\",{\"room_name\":\"ticker_btc_jpy\",\"message\":{\"data\":{\"sell\":\"12089549\",\"buy\":\"12089548\",\"open\":\"12131272\",\"high\":\"12200000\",\"low\":\"11935367\",\"last\":\"12089549\",\"vol\":\"132.7105\",\"timestamp\":1744958623087}}}]\n",
      "42[\"message\",{\"room_name\":\"ticker_btc_jpy\",\"message\":{\"data\":{\"sell\":\"12089549\",\"buy\":\"12089548\",\"open\":\"12131272\",\"high\":\"12200000\",\"low\":\"11935367\",\"last\":\"12089549\",\"vol\":\"132.7105\",\"timestamp\":1744958624115}}}]\n",
      "42[\"message\",{\"room_name\":\"ticker_btc_jpy\",\"message\":{\"data\":{\"sell\":\"12089549\",\"buy\":\"12089548\",\"open\":\"12131272\",\"high\":\"12200000\",\"low\":\"11935367\",\"last\":\"12089549\",\"vol\":\"132.7105\",\"timestamp\":1744958625090}}}]\n",
      "42[\"message\",{\"room_name\":\"ticker_btc_jpy\",\"message\":{\"data\":{\"sell\":\"12089549\",\"buy\":\"12089548\",\"open\":\"12131272\",\"high\":\"12200000\",\"low\":\"11935367\",\"last\":\"12089549\",\"vol\":\"132.7105\",\"timestamp\":1744958626085}}}]\n",
      "42[\"message\",{\"room_name\":\"ticker_btc_jpy\",\"message\":{\"data\":{\"sell\":\"12089549\",\"buy\":\"12089548\",\"open\":\"12131272\",\"high\":\"12200000\",\"low\":\"11935367\",\"last\":\"12089549\",\"vol\":\"132.7105\",\"timestamp\":1744958627081}}}]\n",
      "42[\"message\",{\"room_name\":\"ticker_btc_jpy\",\"message\":{\"data\":{\"sell\":\"12089549\",\"buy\":\"12089548\",\"open\":\"12131271\",\"high\":\"12200000\",\"low\":\"11935367\",\"last\":\"12089549\",\"vol\":\"132.7095\",\"timestamp\":1744958628092}}}]\n",
      "42[\"message\",{\"room_name\":\"ticker_btc_jpy\",\"message\":{\"data\":{\"sell\":\"12089549\",\"buy\":\"12089548\",\"open\":\"12131271\",\"high\":\"12200000\",\"low\":\"11935367\",\"last\":\"12089549\",\"vol\":\"132.7095\",\"timestamp\":1744958629014}}}]\n",
      "42[\"message\",{\"room_name\":\"ticker_btc_jpy\",\"message\":{\"data\":{\"sell\":\"12089549\",\"buy\":\"12089548\",\"open\":\"12131271\",\"high\":\"12200000\",\"low\":\"11935367\",\"last\":\"12089549\",\"vol\":\"132.7095\",\"timestamp\":1744958630191}}}]\n",
      "42[\"message\",{\"room_name\":\"ticker_btc_jpy\",\"message\":{\"data\":{\"sell\":\"12089549\",\"buy\":\"12089548\",\"open\":\"12131271\",\"high\":\"12200000\",\"low\":\"11935367\",\"last\":\"12089549\",\"vol\":\"132.7095\",\"timestamp\":1744958631101}}}]\n",
      "42[\"message\",{\"room_name\":\"ticker_btc_jpy\",\"message\":{\"data\":{\"sell\":\"12089549\",\"buy\":\"12089548\",\"open\":\"12131271\",\"high\":\"12200000\",\"low\":\"11935367\",\"last\":\"12089549\",\"vol\":\"132.7095\",\"timestamp\":1744958632180}}}]\n",
      "42[\"message\",{\"room_name\":\"ticker_btc_jpy\",\"message\":{\"data\":{\"sell\":\"12089549\",\"buy\":\"12089548\",\"open\":\"12131271\",\"high\":\"12200000\",\"low\":\"11935367\",\"last\":\"12089549\",\"vol\":\"132.7095\",\"timestamp\":1744958633046}}}]\n",
      "42[\"message\",{\"room_name\":\"ticker_btc_jpy\",\"message\":{\"data\":{\"sell\":\"12089549\",\"buy\":\"12089548\",\"open\":\"12131271\",\"high\":\"12200000\",\"low\":\"11935367\",\"last\":\"12089549\",\"vol\":\"132.7095\",\"timestamp\":1744958634108}}}]\n",
      "42[\"message\",{\"room_name\":\"ticker_btc_jpy\",\"message\":{\"data\":{\"sell\":\"12089549\",\"buy\":\"12089548\",\"open\":\"12130841\",\"high\":\"12200000\",\"low\":\"11935367\",\"last\":\"12089549\",\"vol\":\"132.6838\",\"timestamp\":1744958635096}}}]\n",
      "42[\"message\",{\"room_name\":\"ticker_btc_jpy\",\"message\":{\"data\":{\"sell\":\"12089549\",\"buy\":\"12089548\",\"open\":\"12130841\",\"high\":\"12200000\",\"low\":\"11935367\",\"last\":\"12089549\",\"vol\":\"132.6838\",\"timestamp\":1744958636162}}}]\n",
      "42[\"message\",{\"room_name\":\"ticker_btc_jpy\",\"message\":{\"data\":{\"sell\":\"12089549\",\"buy\":\"12089548\",\"open\":\"12130841\",\"high\":\"12200000\",\"low\":\"11935367\",\"last\":\"12089549\",\"vol\":\"132.6838\",\"timestamp\":1744958637110}}}]\n",
      "42[\"message\",{\"room_name\":\"ticker_btc_jpy\",\"message\":{\"data\":{\"sell\":\"12089549\",\"buy\":\"12089548\",\"open\":\"12130841\",\"high\":\"12200000\",\"low\":\"11935367\",\"last\":\"12089549\",\"vol\":\"132.6838\",\"timestamp\":1744958638116}}}]\n",
      "42[\"message\",{\"room_name\":\"ticker_btc_jpy\",\"message\":{\"data\":{\"sell\":\"12089549\",\"buy\":\"12089548\",\"open\":\"12130841\",\"high\":\"12200000\",\"low\":\"11935367\",\"last\":\"12089549\",\"vol\":\"132.6838\",\"timestamp\":1744958639103}}}]\n",
      "42[\"message\",{\"room_name\":\"ticker_btc_jpy\",\"message\":{\"data\":{\"sell\":\"12089549\",\"buy\":\"12089548\",\"open\":\"12130841\",\"high\":\"12200000\",\"low\":\"11935367\",\"last\":\"12089549\",\"vol\":\"132.6838\",\"timestamp\":1744958640106}}}]\n",
      "42[\"message\",{\"room_name\":\"ticker_btc_jpy\",\"message\":{\"data\":{\"sell\":\"12089549\",\"buy\":\"12089548\",\"open\":\"12130898\",\"high\":\"12200000\",\"low\":\"11935367\",\"last\":\"12089549\",\"vol\":\"132.6834\",\"timestamp\":1744958641121}}}]\n",
      "42[\"message\",{\"room_name\":\"ticker_btc_jpy\",\"message\":{\"data\":{\"sell\":\"12089549\",\"buy\":\"12089548\",\"open\":\"12130898\",\"high\":\"12200000\",\"low\":\"11935367\",\"last\":\"12089549\",\"vol\":\"132.6834\",\"timestamp\":1744958642114}}}]\n",
      "42[\"message\",{\"room_name\":\"ticker_btc_jpy\",\"message\":{\"data\":{\"sell\":\"12089549\",\"buy\":\"12089548\",\"open\":\"12130898\",\"high\":\"12200000\",\"low\":\"11935367\",\"last\":\"12089549\",\"vol\":\"132.6834\",\"timestamp\":1744958643055}}}]\n",
      "42[\"message\",{\"room_name\":\"ticker_btc_jpy\",\"message\":{\"data\":{\"sell\":\"12089549\",\"buy\":\"12089548\",\"open\":\"12130898\",\"high\":\"12200000\",\"low\":\"11935367\",\"last\":\"12089549\",\"vol\":\"132.6834\",\"timestamp\":1744958644091}}}]\n"
     ]
    },
    {
     "name": "stdout",
     "output_type": "stream",
     "text": [
      "42[\"message\",{\"room_name\":\"ticker_btc_jpy\",\"message\":{\"data\":{\"sell\":\"12089549\",\"buy\":\"12089548\",\"open\":\"12130898\",\"high\":\"12200000\",\"low\":\"11935367\",\"last\":\"12089549\",\"vol\":\"132.6834\",\"timestamp\":1744958645101}}}]\n",
      "42[\"message\",{\"room_name\":\"ticker_btc_jpy\",\"message\":{\"data\":{\"sell\":\"12089549\",\"buy\":\"12089548\",\"open\":\"12130898\",\"high\":\"12200000\",\"low\":\"11935367\",\"last\":\"12089549\",\"vol\":\"132.6834\",\"timestamp\":1744958646102}}}]\n",
      "42[\"message\",{\"room_name\":\"ticker_btc_jpy\",\"message\":{\"data\":{\"sell\":\"12089549\",\"buy\":\"12089548\",\"open\":\"12130898\",\"high\":\"12200000\",\"low\":\"11935367\",\"last\":\"12089549\",\"vol\":\"132.6834\",\"timestamp\":1744958647102}}}]\n",
      "42[\"message\",{\"room_name\":\"ticker_btc_jpy\",\"message\":{\"data\":{\"sell\":\"12089549\",\"buy\":\"12089548\",\"open\":\"12130898\",\"high\":\"12200000\",\"low\":\"11935367\",\"last\":\"12089549\",\"vol\":\"132.6834\",\"timestamp\":1744958648202}}}]\n",
      "42[\"message\",{\"room_name\":\"ticker_btc_jpy\",\"message\":{\"data\":{\"sell\":\"12089549\",\"buy\":\"12089548\",\"open\":\"12130898\",\"high\":\"12200000\",\"low\":\"11935367\",\"last\":\"12089549\",\"vol\":\"132.6834\",\"timestamp\":1744958648553}}}]\n",
      "42[\"message\",{\"room_name\":\"ticker_btc_jpy\",\"message\":{\"data\":{\"sell\":\"12089549\",\"buy\":\"12089548\",\"open\":\"12130898\",\"high\":\"12200000\",\"low\":\"11935367\",\"last\":\"12089549\",\"vol\":\"132.6834\",\"timestamp\":1744958650142}}}]\n",
      "42[\"message\",{\"room_name\":\"ticker_btc_jpy\",\"message\":{\"data\":{\"sell\":\"12089549\",\"buy\":\"12089548\",\"open\":\"12130898\",\"high\":\"12200000\",\"low\":\"11935367\",\"last\":\"12089549\",\"vol\":\"132.6834\",\"timestamp\":1744958651073}}}]\n",
      "42[\"message\",{\"room_name\":\"ticker_btc_jpy\",\"message\":{\"data\":{\"sell\":\"12089549\",\"buy\":\"12089548\",\"open\":\"12130898\",\"high\":\"12200000\",\"low\":\"11935367\",\"last\":\"12089549\",\"vol\":\"132.6834\",\"timestamp\":1744958652176}}}]\n"
     ]
    },
    {
     "ename": "ConnectionClosedOK",
     "evalue": "received 1005 (no status code [internal]); then sent 1005 (no status code [internal])",
     "output_type": "error",
     "traceback": [
      "\u001b[0;31m---------------------------------------------------------------------------\u001b[0m",
      "\u001b[0;31mConnectionClosedOK\u001b[0m                        Traceback (most recent call last)",
      "Input \u001b[0;32mIn [21]\u001b[0m, in \u001b[0;36m<cell line: 6>\u001b[0;34m()\u001b[0m\n\u001b[1;32m      4\u001b[0m nest_asyncio\u001b[38;5;241m.\u001b[39mapply()\n\u001b[1;32m      5\u001b[0m loop \u001b[38;5;241m=\u001b[39m asyncio\u001b[38;5;241m.\u001b[39mget_event_loop()\n\u001b[0;32m----> 6\u001b[0m \u001b[43mloop\u001b[49m\u001b[38;5;241;43m.\u001b[39;49m\u001b[43mrun_until_complete\u001b[49m\u001b[43m(\u001b[49m\u001b[43mlisten\u001b[49m\u001b[43m(\u001b[49m\u001b[43m)\u001b[49m\u001b[43m)\u001b[49m\n",
      "File \u001b[0;32m~/miniforge3/envs/myenv/lib/python3.8/site-packages/nest_asyncio.py:89\u001b[0m, in \u001b[0;36m_patch_loop.<locals>.run_until_complete\u001b[0;34m(self, future)\u001b[0m\n\u001b[1;32m     86\u001b[0m \u001b[38;5;28;01mif\u001b[39;00m \u001b[38;5;129;01mnot\u001b[39;00m f\u001b[38;5;241m.\u001b[39mdone():\n\u001b[1;32m     87\u001b[0m     \u001b[38;5;28;01mraise\u001b[39;00m \u001b[38;5;167;01mRuntimeError\u001b[39;00m(\n\u001b[1;32m     88\u001b[0m         \u001b[38;5;124m'\u001b[39m\u001b[38;5;124mEvent loop stopped before Future completed.\u001b[39m\u001b[38;5;124m'\u001b[39m)\n\u001b[0;32m---> 89\u001b[0m \u001b[38;5;28;01mreturn\u001b[39;00m \u001b[43mf\u001b[49m\u001b[38;5;241;43m.\u001b[39;49m\u001b[43mresult\u001b[49m\u001b[43m(\u001b[49m\u001b[43m)\u001b[49m\n",
      "File \u001b[0;32m~/miniforge3/envs/myenv/lib/python3.8/asyncio/futures.py:178\u001b[0m, in \u001b[0;36mFuture.result\u001b[0;34m(self)\u001b[0m\n\u001b[1;32m    176\u001b[0m \u001b[38;5;28mself\u001b[39m\u001b[38;5;241m.\u001b[39m__log_traceback \u001b[38;5;241m=\u001b[39m \u001b[38;5;28;01mFalse\u001b[39;00m\n\u001b[1;32m    177\u001b[0m \u001b[38;5;28;01mif\u001b[39;00m \u001b[38;5;28mself\u001b[39m\u001b[38;5;241m.\u001b[39m_exception \u001b[38;5;129;01mis\u001b[39;00m \u001b[38;5;129;01mnot\u001b[39;00m \u001b[38;5;28;01mNone\u001b[39;00m:\n\u001b[0;32m--> 178\u001b[0m     \u001b[38;5;28;01mraise\u001b[39;00m \u001b[38;5;28mself\u001b[39m\u001b[38;5;241m.\u001b[39m_exception\n\u001b[1;32m    179\u001b[0m \u001b[38;5;28;01mreturn\u001b[39;00m \u001b[38;5;28mself\u001b[39m\u001b[38;5;241m.\u001b[39m_result\n",
      "File \u001b[0;32m~/miniforge3/envs/myenv/lib/python3.8/asyncio/tasks.py:280\u001b[0m, in \u001b[0;36mTask.__step\u001b[0;34m(***failed resolving arguments***)\u001b[0m\n\u001b[1;32m    276\u001b[0m \u001b[38;5;28;01mtry\u001b[39;00m:\n\u001b[1;32m    277\u001b[0m     \u001b[38;5;28;01mif\u001b[39;00m exc \u001b[38;5;129;01mis\u001b[39;00m \u001b[38;5;28;01mNone\u001b[39;00m:\n\u001b[1;32m    278\u001b[0m         \u001b[38;5;66;03m# We use the `send` method directly, because coroutines\u001b[39;00m\n\u001b[1;32m    279\u001b[0m         \u001b[38;5;66;03m# don't have `__iter__` and `__next__` methods.\u001b[39;00m\n\u001b[0;32m--> 280\u001b[0m         result \u001b[38;5;241m=\u001b[39m \u001b[43mcoro\u001b[49m\u001b[38;5;241;43m.\u001b[39;49m\u001b[43msend\u001b[49m\u001b[43m(\u001b[49m\u001b[38;5;28;43;01mNone\u001b[39;49;00m\u001b[43m)\u001b[49m\n\u001b[1;32m    281\u001b[0m     \u001b[38;5;28;01melse\u001b[39;00m:\n\u001b[1;32m    282\u001b[0m         result \u001b[38;5;241m=\u001b[39m coro\u001b[38;5;241m.\u001b[39mthrow(exc)\n",
      "Input \u001b[0;32mIn [20]\u001b[0m, in \u001b[0;36mlisten\u001b[0;34m()\u001b[0m\n\u001b[1;32m     18\u001b[0m     \u001b[38;5;28mprint\u001b[39m(\u001b[38;5;124mf\u001b[39m\u001b[38;5;124m\"\u001b[39m\u001b[38;5;124mSend request for \u001b[39m\u001b[38;5;124m'\u001b[39m\u001b[38;5;132;01m{\u001b[39;00mchannel\u001b[38;5;132;01m}\u001b[39;00m\u001b[38;5;124m'\u001b[39m\u001b[38;5;124m\"\u001b[39m)\n\u001b[1;32m     20\u001b[0m \u001b[38;5;28;01mwhile\u001b[39;00m \u001b[38;5;28;01mTrue\u001b[39;00m:\n\u001b[0;32m---> 21\u001b[0m     message \u001b[38;5;241m=\u001b[39m \u001b[38;5;28;01mawait\u001b[39;00m ws\u001b[38;5;241m.\u001b[39mrecv()\n\u001b[1;32m     22\u001b[0m     \u001b[38;5;28mprint\u001b[39m(\u001b[38;5;124mf\u001b[39m\u001b[38;5;124m\"\u001b[39m\u001b[38;5;132;01m{\u001b[39;00mmessage\u001b[38;5;132;01m}\u001b[39;00m\u001b[38;5;124m\"\u001b[39m)\n",
      "File \u001b[0;32m~/miniforge3/envs/myenv/lib/python3.8/site-packages/websockets/legacy/protocol.py:568\u001b[0m, in \u001b[0;36mWebSocketCommonProtocol.recv\u001b[0;34m(self)\u001b[0m\n\u001b[1;32m    564\u001b[0m             \u001b[38;5;28;01mreturn\u001b[39;00m \u001b[38;5;28;01mNone\u001b[39;00m  \u001b[38;5;66;03m# type: ignore\u001b[39;00m\n\u001b[1;32m    565\u001b[0m         \u001b[38;5;28;01melse\u001b[39;00m:\n\u001b[1;32m    566\u001b[0m             \u001b[38;5;66;03m# Wait until the connection is closed to raise\u001b[39;00m\n\u001b[1;32m    567\u001b[0m             \u001b[38;5;66;03m# ConnectionClosed with the correct code and reason.\u001b[39;00m\n\u001b[0;32m--> 568\u001b[0m             \u001b[38;5;28;01mawait\u001b[39;00m \u001b[38;5;28mself\u001b[39m\u001b[38;5;241m.\u001b[39mensure_open()\n\u001b[1;32m    570\u001b[0m \u001b[38;5;66;03m# Pop a message from the queue.\u001b[39;00m\n\u001b[1;32m    571\u001b[0m message \u001b[38;5;241m=\u001b[39m \u001b[38;5;28mself\u001b[39m\u001b[38;5;241m.\u001b[39mmessages\u001b[38;5;241m.\u001b[39mpopleft()\n",
      "File \u001b[0;32m~/miniforge3/envs/myenv/lib/python3.8/site-packages/websockets/legacy/protocol.py:944\u001b[0m, in \u001b[0;36mWebSocketCommonProtocol.ensure_open\u001b[0;34m(self)\u001b[0m\n\u001b[1;32m    937\u001b[0m \u001b[38;5;28;01mif\u001b[39;00m \u001b[38;5;28mself\u001b[39m\u001b[38;5;241m.\u001b[39mstate \u001b[38;5;129;01mis\u001b[39;00m State\u001b[38;5;241m.\u001b[39mCLOSING:\n\u001b[1;32m    938\u001b[0m     \u001b[38;5;66;03m# If we started the closing handshake, wait for its completion to\u001b[39;00m\n\u001b[1;32m    939\u001b[0m     \u001b[38;5;66;03m# get the proper close code and reason. self.close_connection_task\u001b[39;00m\n\u001b[1;32m    940\u001b[0m     \u001b[38;5;66;03m# will complete within 4 or 5 * close_timeout after close(). The\u001b[39;00m\n\u001b[1;32m    941\u001b[0m     \u001b[38;5;66;03m# CLOSING state also occurs when failing the connection. In that\u001b[39;00m\n\u001b[1;32m    942\u001b[0m     \u001b[38;5;66;03m# case self.close_connection_task will complete even faster.\u001b[39;00m\n\u001b[1;32m    943\u001b[0m     \u001b[38;5;28;01mawait\u001b[39;00m asyncio\u001b[38;5;241m.\u001b[39mshield(\u001b[38;5;28mself\u001b[39m\u001b[38;5;241m.\u001b[39mclose_connection_task)\n\u001b[0;32m--> 944\u001b[0m     \u001b[38;5;28;01mraise\u001b[39;00m \u001b[38;5;28mself\u001b[39m\u001b[38;5;241m.\u001b[39mconnection_closed_exc()\n\u001b[1;32m    946\u001b[0m \u001b[38;5;66;03m# Control may only reach this point in buggy third-party subclasses.\u001b[39;00m\n\u001b[1;32m    947\u001b[0m \u001b[38;5;28;01massert\u001b[39;00m \u001b[38;5;28mself\u001b[39m\u001b[38;5;241m.\u001b[39mstate \u001b[38;5;129;01mis\u001b[39;00m State\u001b[38;5;241m.\u001b[39mCONNECTING\n",
      "\u001b[0;31mConnectionClosedOK\u001b[0m: received 1005 (no status code [internal]); then sent 1005 (no status code [internal])"
     ]
    }
   ],
   "source": [
    "import nest_asyncio\n",
    "import asyncio\n",
    "\n",
    "nest_asyncio.apply()\n",
    "loop = asyncio.get_event_loop()\n",
    "loop.run_until_complete(listen())"
   ]
  },
  {
   "cell_type": "code",
   "execution_count": 22,
   "id": "ec65e2d5",
   "metadata": {},
   "outputs": [
    {
     "data": {
      "text/plain": [
       "[3, 2, 1]"
      ]
     },
     "execution_count": 22,
     "metadata": {},
     "output_type": "execute_result"
    }
   ],
   "source": [
    "[1, 2, 3][::-1]"
   ]
  },
  {
   "cell_type": "code",
   "execution_count": null,
   "id": "836a9253",
   "metadata": {},
   "outputs": [],
   "source": []
  }
 ],
 "metadata": {
  "kernelspec": {
   "display_name": "Python 3 (ipykernel)",
   "language": "python",
   "name": "python3"
  },
  "language_info": {
   "codemirror_mode": {
    "name": "ipython",
    "version": 3
   },
   "file_extension": ".py",
   "mimetype": "text/x-python",
   "name": "python",
   "nbconvert_exporter": "python",
   "pygments_lexer": "ipython3",
   "version": "3.8.6"
  }
 },
 "nbformat": 4,
 "nbformat_minor": 5
}
