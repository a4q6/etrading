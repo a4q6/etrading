{
 "cells": [
  {
   "cell_type": "code",
   "execution_count": 1,
   "id": "3fc55b62",
   "metadata": {},
   "outputs": [],
   "source": [
    "import json\n",
    "import requests\n",
    "import itertools\n",
    "import pandas as pd\n",
    "from pathlib import Path\n",
    "from concurrent.futures import ThreadPoolExecutor\n",
    "from tqdm.auto import tqdm"
   ]
  },
  {
   "cell_type": "markdown",
   "id": "68e9666d",
   "metadata": {},
   "source": [
    "https://api.coin.z.com/data/trades/BTC/2018/09/20180905_BTC.csv.gz"
   ]
  },
  {
   "cell_type": "code",
   "execution_count": 2,
   "id": "1c88f224",
   "metadata": {},
   "outputs": [],
   "source": [
    "def url(date, sym): \n",
    "    d = pd.Timestamp(date)\n",
    "    ymd = d.strftime(\"%Y%m%d\")\n",
    "    return f\"https://api.coin.z.com/data/trades/{sym}/{d.year}/{d.month:02d}/{ymd}_{sym}.csv.gz\"\n",
    "\n",
    "def get(date, sym):\n",
    "    df = pd.DataFrame()\n",
    "    try:\n",
    "        df = pd.read_csv(url(date, sym))\n",
    "        df.timestamp = pd.to_datetime(df.timestamp)\n",
    "    except KeyboardInterrupt:\n",
    "        raise KeyboardInterrupt\n",
    "    except:\n",
    "        pass\n",
    "    return df\n",
    "\n",
    "def get_month(month, sym):\n",
    "    d = pd.Timestamp(month).replace(day=1)\n",
    "    dates = pd.date_range(d, d + pd.offsets.MonthEnd())\n",
    "    df = pd.concat(get(date, sym) for date in dates)\n",
    "    return df\n",
    "\n",
    "def save(month, sym, parent=Path(\"../data/gmo\"), skip_if_exists=True):\n",
    "    ym = pd.Timestamp(month).strftime(\"%Y-%m\")\n",
    "    filepath = parent.joinpath(sym).joinpath(f\"{ym}_{sym}.parquet\")\n",
    "    filepath.parent.mkdir(parents=True, exist_ok=True)\n",
    "    if filepath.exists() and skip_if_exists:\n",
    "        return\n",
    "    df = get_month(month, sym)\n",
    "    if df.shape[0] > 0:\n",
    "        df.to_parquet(filepath)"
   ]
  },
  {
   "cell_type": "code",
   "execution_count": 3,
   "id": "4221a424",
   "metadata": {},
   "outputs": [],
   "source": [
    "symbols = [\"BTC\", \"BTC_JPY\", \"ETH\", \"ETH_JPY\", \"XRP\", \"XRP_JPY\", \"LTC\", \"LTC_JPY\"]\n",
    "months = set([d.replace(day=1) for d in pd.date_range(\"2023-01-01\", \"2025-04-01\")])\n",
    "args_list = [(month, sym) for month, sym in itertools.product(months, symbols)]"
   ]
  },
  {
   "cell_type": "code",
   "execution_count": 4,
   "id": "66b32f06",
   "metadata": {},
   "outputs": [],
   "source": [
    "# with ThreadPoolExecutor(max_workers=4) as executor:\n",
    "#     results = list(tqdm(executor.map(lambda args: save(*args), args_list), total=len(args_list)))"
   ]
  },
  {
   "cell_type": "code",
   "execution_count": null,
   "id": "55cbe5a0",
   "metadata": {},
   "outputs": [],
   "source": []
  }
 ],
 "metadata": {
  "kernelspec": {
   "display_name": "Python 3 (ipykernel)",
   "language": "python",
   "name": "python3"
  },
  "language_info": {
   "codemirror_mode": {
    "name": "ipython",
    "version": 3
   },
   "file_extension": ".py",
   "mimetype": "text/x-python",
   "name": "python",
   "nbconvert_exporter": "python",
   "pygments_lexer": "ipython3",
   "version": "3.8.6"
  }
 },
 "nbformat": 4,
 "nbformat_minor": 5
}
